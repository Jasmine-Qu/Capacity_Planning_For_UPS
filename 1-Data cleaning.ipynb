{
 "cells": [
  {
   "cell_type": "code",
   "execution_count": null,
   "metadata": {},
   "outputs": [],
   "source": []
  },
  {
   "cell_type": "code",
   "execution_count": 1,
   "metadata": {},
   "outputs": [],
   "source": [
    "import numpy as np\n",
    "import pandas as pd\n",
    "import matplotlib.pyplot as plt\n",
    "from gurobipy import *\n",
    "import time\n",
    "import datetime\n",
    "import scipy.stats as st\n",
    "from fitter import Fitter\n",
    "\n",
    "import warnings\n",
    "warnings.filterwarnings(\"ignore\")"
   ]
  },
  {
   "cell_type": "code",
   "execution_count": 2,
   "metadata": {},
   "outputs": [],
   "source": [
    "data=pd.read_csv('demand_mask.csv')"
   ]
  },
  {
   "cell_type": "code",
   "execution_count": 3,
   "metadata": {
    "scrolled": true
   },
   "outputs": [
    {
     "data": {
      "text/html": [
       "<div>\n",
       "<style scoped>\n",
       "    .dataframe tbody tr th:only-of-type {\n",
       "        vertical-align: middle;\n",
       "    }\n",
       "\n",
       "    .dataframe tbody tr th {\n",
       "        vertical-align: top;\n",
       "    }\n",
       "\n",
       "    .dataframe thead th {\n",
       "        text-align: right;\n",
       "    }\n",
       "</style>\n",
       "<table border=\"1\" class=\"dataframe\">\n",
       "  <thead>\n",
       "    <tr style=\"text-align: right;\">\n",
       "      <th></th>\n",
       "      <th>District</th>\n",
       "      <th>Lane</th>\n",
       "      <th>Date</th>\n",
       "      <th>Express</th>\n",
       "      <th>WEPS</th>\n",
       "      <th>WWEF</th>\n",
       "      <th>Crew Bid Express Forecast</th>\n",
       "      <th>Crew Bid WEPS Forecast</th>\n",
       "      <th>Crew Bid WWEF Forecast</th>\n",
       "    </tr>\n",
       "  </thead>\n",
       "  <tbody>\n",
       "    <tr>\n",
       "      <th>0</th>\n",
       "      <td>CN_SOUTH_CHINA</td>\n",
       "      <td>SCN-SZX HUB (US)</td>\n",
       "      <td>1-Jan-19</td>\n",
       "      <td>NaN</td>\n",
       "      <td>NaN</td>\n",
       "      <td>NaN</td>\n",
       "      <td>6664.0</td>\n",
       "      <td>1501.0</td>\n",
       "      <td>82.0</td>\n",
       "    </tr>\n",
       "    <tr>\n",
       "      <th>1</th>\n",
       "      <td>CN_SOUTH_CHINA</td>\n",
       "      <td>SCN-SZX HUB (US)</td>\n",
       "      <td>2-Jan-19</td>\n",
       "      <td>NaN</td>\n",
       "      <td>NaN</td>\n",
       "      <td>NaN</td>\n",
       "      <td>106442.0</td>\n",
       "      <td>23503.0</td>\n",
       "      <td>1260.0</td>\n",
       "    </tr>\n",
       "    <tr>\n",
       "      <th>2</th>\n",
       "      <td>CN_SOUTH_CHINA</td>\n",
       "      <td>SCN-SZX HUB (US)</td>\n",
       "      <td>3-Jan-19</td>\n",
       "      <td>506414.0</td>\n",
       "      <td>80078.0</td>\n",
       "      <td>3318.0</td>\n",
       "      <td>271224.0</td>\n",
       "      <td>59997.0</td>\n",
       "      <td>3230.0</td>\n",
       "    </tr>\n",
       "    <tr>\n",
       "      <th>3</th>\n",
       "      <td>CN_SOUTH_CHINA</td>\n",
       "      <td>SCN-SZX HUB (US)</td>\n",
       "      <td>4-Jan-19</td>\n",
       "      <td>429955.0</td>\n",
       "      <td>68851.0</td>\n",
       "      <td>3032.0</td>\n",
       "      <td>255762.0</td>\n",
       "      <td>56477.0</td>\n",
       "      <td>3064.0</td>\n",
       "    </tr>\n",
       "    <tr>\n",
       "      <th>4</th>\n",
       "      <td>CN_SOUTH_CHINA</td>\n",
       "      <td>SCN-SZX HUB (US)</td>\n",
       "      <td>5-Jan-19</td>\n",
       "      <td>549524.0</td>\n",
       "      <td>65329.0</td>\n",
       "      <td>1458.0</td>\n",
       "      <td>326884.0</td>\n",
       "      <td>71435.0</td>\n",
       "      <td>3873.0</td>\n",
       "    </tr>\n",
       "  </tbody>\n",
       "</table>\n",
       "</div>"
      ],
      "text/plain": [
       "         District              Lane      Date   Express     WEPS    WWEF  \\\n",
       "0  CN_SOUTH_CHINA  SCN-SZX HUB (US)  1-Jan-19       NaN      NaN     NaN   \n",
       "1  CN_SOUTH_CHINA  SCN-SZX HUB (US)  2-Jan-19       NaN      NaN     NaN   \n",
       "2  CN_SOUTH_CHINA  SCN-SZX HUB (US)  3-Jan-19  506414.0  80078.0  3318.0   \n",
       "3  CN_SOUTH_CHINA  SCN-SZX HUB (US)  4-Jan-19  429955.0  68851.0  3032.0   \n",
       "4  CN_SOUTH_CHINA  SCN-SZX HUB (US)  5-Jan-19  549524.0  65329.0  1458.0   \n",
       "\n",
       "   Crew Bid Express Forecast  Crew Bid WEPS Forecast  Crew Bid WWEF Forecast  \n",
       "0                     6664.0                  1501.0                    82.0  \n",
       "1                   106442.0                 23503.0                  1260.0  \n",
       "2                   271224.0                 59997.0                  3230.0  \n",
       "3                   255762.0                 56477.0                  3064.0  \n",
       "4                   326884.0                 71435.0                  3873.0  "
      ]
     },
     "execution_count": 3,
     "metadata": {},
     "output_type": "execute_result"
    }
   ],
   "source": [
    "data.head(5)"
   ]
  },
  {
   "cell_type": "code",
   "execution_count": 4,
   "metadata": {
    "scrolled": false
   },
   "outputs": [
    {
     "data": {
      "text/plain": [
       "array(['District', 'Lane', 'Date', 'Express', 'WEPS', 'WWEF',\n",
       "       'Crew Bid Express Forecast', 'Crew Bid WEPS Forecast',\n",
       "       'Crew Bid WWEF Forecast'], dtype=object)"
      ]
     },
     "execution_count": 4,
     "metadata": {},
     "output_type": "execute_result"
    }
   ],
   "source": [
    "data.columns.values"
   ]
  },
  {
   "cell_type": "code",
   "execution_count": 5,
   "metadata": {},
   "outputs": [],
   "source": [
    "data=data.fillna(0)"
   ]
  },
  {
   "cell_type": "code",
   "execution_count": 6,
   "metadata": {},
   "outputs": [],
   "source": [
    "data['real_d']=data['Express']+data['WEPS']+data['WWEF']\n",
    "data['predict_d']=data['Crew Bid Express Forecast']+data['Crew Bid WEPS Forecast']+data['Crew Bid WWEF Forecast']"
   ]
  },
  {
   "cell_type": "code",
   "execution_count": 7,
   "metadata": {},
   "outputs": [],
   "source": [
    "data['date']=pd.to_datetime(data['Date'],format='%d-%b-%y')\n",
    "def match_quarter(x):\n",
    "    if 0<=x<=3:\n",
    "        quarter=1\n",
    "    elif 4<=x<=6:\n",
    "        quarter=23\n",
    "    elif 7<=x<=9:\n",
    "        quarter=3\n",
    "    elif 10<=x<=12:\n",
    "        quarter=4\n",
    "    return quarter\n",
    "\n",
    "def three_period(x):\n",
    "    if 0<=x<=3:\n",
    "        period=1\n",
    "    elif 4<=x<=9:\n",
    "        period=2\n",
    "    elif 10<=x<=12:\n",
    "        period=3\n",
    "    return period"
   ]
  },
  {
   "cell_type": "code",
   "execution_count": 8,
   "metadata": {},
   "outputs": [],
   "source": [
    "for i in range(len(data)):\n",
    "    timeArray=time.strptime(data.loc[i,'Date'],'%d-%b-%y')\n",
    "    timeStamp = int(time.mktime(timeArray))\n",
    "    dateArray = datetime.datetime.fromtimestamp(timeStamp)\n",
    "    data.loc[i,'weekday']=dateArray.isoweekday()\n",
    "    data.loc[i,'month']=dateArray.month\n",
    "    data.loc[i,'year']=dateArray.year\n",
    "    data.loc[i,'quarter']=match_quarter(data.loc[i,'month'])\n",
    "    data.loc[i,'period']=three_period(data.loc[i,'month'])"
   ]
  },
  {
   "cell_type": "code",
   "execution_count": 9,
   "metadata": {},
   "outputs": [],
   "source": [
    "column=['Lane','date','real_d','predict_d','weekday','month','year','quarter','period']\n",
    "data=data[column]"
   ]
  },
  {
   "cell_type": "code",
   "execution_count": 10,
   "metadata": {
    "scrolled": true
   },
   "outputs": [
    {
     "data": {
      "text/html": [
       "<div>\n",
       "<style scoped>\n",
       "    .dataframe tbody tr th:only-of-type {\n",
       "        vertical-align: middle;\n",
       "    }\n",
       "\n",
       "    .dataframe tbody tr th {\n",
       "        vertical-align: top;\n",
       "    }\n",
       "\n",
       "    .dataframe thead th {\n",
       "        text-align: right;\n",
       "    }\n",
       "</style>\n",
       "<table border=\"1\" class=\"dataframe\">\n",
       "  <thead>\n",
       "    <tr style=\"text-align: right;\">\n",
       "      <th></th>\n",
       "      <th>Lane</th>\n",
       "      <th>date</th>\n",
       "      <th>real_d</th>\n",
       "      <th>predict_d</th>\n",
       "      <th>weekday</th>\n",
       "      <th>month</th>\n",
       "      <th>year</th>\n",
       "      <th>quarter</th>\n",
       "      <th>period</th>\n",
       "    </tr>\n",
       "  </thead>\n",
       "  <tbody>\n",
       "    <tr>\n",
       "      <th>4381</th>\n",
       "      <td>HK HUB (EU)</td>\n",
       "      <td>2020-12-27</td>\n",
       "      <td>0.0</td>\n",
       "      <td>0.0</td>\n",
       "      <td>7.0</td>\n",
       "      <td>12.0</td>\n",
       "      <td>2020.0</td>\n",
       "      <td>4.0</td>\n",
       "      <td>3.0</td>\n",
       "    </tr>\n",
       "    <tr>\n",
       "      <th>4382</th>\n",
       "      <td>HK HUB (EU)</td>\n",
       "      <td>2020-12-28</td>\n",
       "      <td>0.0</td>\n",
       "      <td>305708.0</td>\n",
       "      <td>1.0</td>\n",
       "      <td>12.0</td>\n",
       "      <td>2020.0</td>\n",
       "      <td>4.0</td>\n",
       "      <td>3.0</td>\n",
       "    </tr>\n",
       "    <tr>\n",
       "      <th>4383</th>\n",
       "      <td>HK HUB (EU)</td>\n",
       "      <td>2020-12-29</td>\n",
       "      <td>0.0</td>\n",
       "      <td>585492.0</td>\n",
       "      <td>2.0</td>\n",
       "      <td>12.0</td>\n",
       "      <td>2020.0</td>\n",
       "      <td>4.0</td>\n",
       "      <td>3.0</td>\n",
       "    </tr>\n",
       "    <tr>\n",
       "      <th>4384</th>\n",
       "      <td>HK HUB (EU)</td>\n",
       "      <td>2020-12-30</td>\n",
       "      <td>0.0</td>\n",
       "      <td>578380.0</td>\n",
       "      <td>3.0</td>\n",
       "      <td>12.0</td>\n",
       "      <td>2020.0</td>\n",
       "      <td>4.0</td>\n",
       "      <td>3.0</td>\n",
       "    </tr>\n",
       "    <tr>\n",
       "      <th>4385</th>\n",
       "      <td>HK HUB (EU)</td>\n",
       "      <td>2020-12-31</td>\n",
       "      <td>0.0</td>\n",
       "      <td>548991.0</td>\n",
       "      <td>4.0</td>\n",
       "      <td>12.0</td>\n",
       "      <td>2020.0</td>\n",
       "      <td>4.0</td>\n",
       "      <td>3.0</td>\n",
       "    </tr>\n",
       "  </tbody>\n",
       "</table>\n",
       "</div>"
      ],
      "text/plain": [
       "             Lane       date  real_d  predict_d  weekday  month    year  \\\n",
       "4381  HK HUB (EU) 2020-12-27     0.0        0.0      7.0   12.0  2020.0   \n",
       "4382  HK HUB (EU) 2020-12-28     0.0   305708.0      1.0   12.0  2020.0   \n",
       "4383  HK HUB (EU) 2020-12-29     0.0   585492.0      2.0   12.0  2020.0   \n",
       "4384  HK HUB (EU) 2020-12-30     0.0   578380.0      3.0   12.0  2020.0   \n",
       "4385  HK HUB (EU) 2020-12-31     0.0   548991.0      4.0   12.0  2020.0   \n",
       "\n",
       "      quarter  period  \n",
       "4381      4.0     3.0  \n",
       "4382      4.0     3.0  \n",
       "4383      4.0     3.0  \n",
       "4384      4.0     3.0  \n",
       "4385      4.0     3.0  "
      ]
     },
     "execution_count": 10,
     "metadata": {},
     "output_type": "execute_result"
    }
   ],
   "source": [
    "data.tail(5)"
   ]
  },
  {
   "cell_type": "code",
   "execution_count": 11,
   "metadata": {},
   "outputs": [],
   "source": [
    "data=data[(data['date']<=pd.datetime(2020,10,28))]"
   ]
  },
  {
   "cell_type": "code",
   "execution_count": 12,
   "metadata": {
    "scrolled": true
   },
   "outputs": [
    {
     "data": {
      "text/html": [
       "<div>\n",
       "<style scoped>\n",
       "    .dataframe tbody tr th:only-of-type {\n",
       "        vertical-align: middle;\n",
       "    }\n",
       "\n",
       "    .dataframe tbody tr th {\n",
       "        vertical-align: top;\n",
       "    }\n",
       "\n",
       "    .dataframe thead th {\n",
       "        text-align: right;\n",
       "    }\n",
       "</style>\n",
       "<table border=\"1\" class=\"dataframe\">\n",
       "  <thead>\n",
       "    <tr style=\"text-align: right;\">\n",
       "      <th></th>\n",
       "      <th>Lane</th>\n",
       "      <th>date</th>\n",
       "      <th>real_d</th>\n",
       "      <th>predict_d</th>\n",
       "      <th>weekday</th>\n",
       "      <th>month</th>\n",
       "      <th>year</th>\n",
       "      <th>quarter</th>\n",
       "      <th>period</th>\n",
       "    </tr>\n",
       "  </thead>\n",
       "  <tbody>\n",
       "    <tr>\n",
       "      <th>4317</th>\n",
       "      <td>HK HUB (EU)</td>\n",
       "      <td>2020-10-24</td>\n",
       "      <td>607855.0</td>\n",
       "      <td>803961.0</td>\n",
       "      <td>6.0</td>\n",
       "      <td>10.0</td>\n",
       "      <td>2020.0</td>\n",
       "      <td>4.0</td>\n",
       "      <td>3.0</td>\n",
       "    </tr>\n",
       "    <tr>\n",
       "      <th>4318</th>\n",
       "      <td>HK HUB (EU)</td>\n",
       "      <td>2020-10-25</td>\n",
       "      <td>0.0</td>\n",
       "      <td>0.0</td>\n",
       "      <td>7.0</td>\n",
       "      <td>10.0</td>\n",
       "      <td>2020.0</td>\n",
       "      <td>4.0</td>\n",
       "      <td>3.0</td>\n",
       "    </tr>\n",
       "    <tr>\n",
       "      <th>4319</th>\n",
       "      <td>HK HUB (EU)</td>\n",
       "      <td>2020-10-26</td>\n",
       "      <td>572106.0</td>\n",
       "      <td>416954.0</td>\n",
       "      <td>1.0</td>\n",
       "      <td>10.0</td>\n",
       "      <td>2020.0</td>\n",
       "      <td>4.0</td>\n",
       "      <td>3.0</td>\n",
       "    </tr>\n",
       "    <tr>\n",
       "      <th>4320</th>\n",
       "      <td>HK HUB (EU)</td>\n",
       "      <td>2020-10-27</td>\n",
       "      <td>463869.0</td>\n",
       "      <td>230336.0</td>\n",
       "      <td>2.0</td>\n",
       "      <td>10.0</td>\n",
       "      <td>2020.0</td>\n",
       "      <td>4.0</td>\n",
       "      <td>3.0</td>\n",
       "    </tr>\n",
       "    <tr>\n",
       "      <th>4321</th>\n",
       "      <td>HK HUB (EU)</td>\n",
       "      <td>2020-10-28</td>\n",
       "      <td>516886.0</td>\n",
       "      <td>642719.0</td>\n",
       "      <td>3.0</td>\n",
       "      <td>10.0</td>\n",
       "      <td>2020.0</td>\n",
       "      <td>4.0</td>\n",
       "      <td>3.0</td>\n",
       "    </tr>\n",
       "  </tbody>\n",
       "</table>\n",
       "</div>"
      ],
      "text/plain": [
       "             Lane       date    real_d  predict_d  weekday  month    year  \\\n",
       "4317  HK HUB (EU) 2020-10-24  607855.0   803961.0      6.0   10.0  2020.0   \n",
       "4318  HK HUB (EU) 2020-10-25       0.0        0.0      7.0   10.0  2020.0   \n",
       "4319  HK HUB (EU) 2020-10-26  572106.0   416954.0      1.0   10.0  2020.0   \n",
       "4320  HK HUB (EU) 2020-10-27  463869.0   230336.0      2.0   10.0  2020.0   \n",
       "4321  HK HUB (EU) 2020-10-28  516886.0   642719.0      3.0   10.0  2020.0   \n",
       "\n",
       "      quarter  period  \n",
       "4317      4.0     3.0  \n",
       "4318      4.0     3.0  \n",
       "4319      4.0     3.0  \n",
       "4320      4.0     3.0  \n",
       "4321      4.0     3.0  "
      ]
     },
     "execution_count": 12,
     "metadata": {},
     "output_type": "execute_result"
    }
   ],
   "source": [
    "data.tail(5)"
   ]
  },
  {
   "cell_type": "code",
   "execution_count": 13,
   "metadata": {},
   "outputs": [],
   "source": [
    "data.reset_index(drop=True,inplace=True)"
   ]
  },
  {
   "cell_type": "code",
   "execution_count": 16,
   "metadata": {},
   "outputs": [],
   "source": [
    "data.to_csv('/Users/beijiale/Desktop/demand_ups.csv')"
   ]
  },
  {
   "cell_type": "code",
   "execution_count": 17,
   "metadata": {},
   "outputs": [],
   "source": [
    "data=pd.read_csv('demand_ups.csv',index_col=0,header=0)"
   ]
  },
  {
   "cell_type": "code",
   "execution_count": 18,
   "metadata": {},
   "outputs": [],
   "source": [
    "#We just select SZX-US and HK-US two lanes\n",
    "#input: 1,3,SZX/US,(default:2019),predict/real\n",
    "\n",
    "# eg. df=data_select(1,3,2019,'SZX','predict')\n",
    "\n",
    "lane_dict={'SZX':'SCN-SZX HUB (US)','HK':'HK HUB (US)'}\n",
    "type_dict={'predict':'predict_d','real':'real_d'}\n",
    "\n",
    "def data_select(weekday,period,year,lane,datatype='predict'):   \n",
    "    df=data[(data['Lane']==lane_dict[lane]) & (data['weekday']==weekday) \n",
    "            &(data['period']==period) &(data['year']==year)]\n",
    "    column=['Lane', 'date',type_dict[datatype] ,'weekday', 'month', 'year',\n",
    "       'quarter', 'period']\n",
    "    df=df[column]\n",
    "    df=df[(df[type_dict[datatype]]>=1000)]\n",
    "    df.reset_index(drop=True,inplace=True)\n",
    "    df=df.rename(columns={type_dict[datatype]:'demand'})\n",
    "    return df"
   ]
  },
  {
   "cell_type": "code",
   "execution_count": 20,
   "metadata": {},
   "outputs": [
    {
     "data": {
      "text/html": [
       "<div>\n",
       "<style scoped>\n",
       "    .dataframe tbody tr th:only-of-type {\n",
       "        vertical-align: middle;\n",
       "    }\n",
       "\n",
       "    .dataframe tbody tr th {\n",
       "        vertical-align: top;\n",
       "    }\n",
       "\n",
       "    .dataframe thead th {\n",
       "        text-align: right;\n",
       "    }\n",
       "</style>\n",
       "<table border=\"1\" class=\"dataframe\">\n",
       "  <thead>\n",
       "    <tr style=\"text-align: right;\">\n",
       "      <th></th>\n",
       "      <th>Lane</th>\n",
       "      <th>date</th>\n",
       "      <th>demand</th>\n",
       "      <th>weekday</th>\n",
       "      <th>month</th>\n",
       "      <th>year</th>\n",
       "      <th>quarter</th>\n",
       "      <th>period</th>\n",
       "    </tr>\n",
       "  </thead>\n",
       "  <tbody>\n",
       "    <tr>\n",
       "      <th>0</th>\n",
       "      <td>SCN-SZX HUB (US)</td>\n",
       "      <td>2020-10-12</td>\n",
       "      <td>645493.0</td>\n",
       "      <td>1.0</td>\n",
       "      <td>10.0</td>\n",
       "      <td>2020.0</td>\n",
       "      <td>4.0</td>\n",
       "      <td>3.0</td>\n",
       "    </tr>\n",
       "    <tr>\n",
       "      <th>1</th>\n",
       "      <td>SCN-SZX HUB (US)</td>\n",
       "      <td>2020-10-19</td>\n",
       "      <td>343228.0</td>\n",
       "      <td>1.0</td>\n",
       "      <td>10.0</td>\n",
       "      <td>2020.0</td>\n",
       "      <td>4.0</td>\n",
       "      <td>3.0</td>\n",
       "    </tr>\n",
       "    <tr>\n",
       "      <th>2</th>\n",
       "      <td>SCN-SZX HUB (US)</td>\n",
       "      <td>2020-10-26</td>\n",
       "      <td>327317.0</td>\n",
       "      <td>1.0</td>\n",
       "      <td>10.0</td>\n",
       "      <td>2020.0</td>\n",
       "      <td>4.0</td>\n",
       "      <td>3.0</td>\n",
       "    </tr>\n",
       "  </tbody>\n",
       "</table>\n",
       "</div>"
      ],
      "text/plain": [
       "               Lane        date    demand  weekday  month    year  quarter  \\\n",
       "0  SCN-SZX HUB (US)  2020-10-12  645493.0      1.0   10.0  2020.0      4.0   \n",
       "1  SCN-SZX HUB (US)  2020-10-19  343228.0      1.0   10.0  2020.0      4.0   \n",
       "2  SCN-SZX HUB (US)  2020-10-26  327317.0      1.0   10.0  2020.0      4.0   \n",
       "\n",
       "   period  \n",
       "0     3.0  \n",
       "1     3.0  \n",
       "2     3.0  "
      ]
     },
     "execution_count": 20,
     "metadata": {},
     "output_type": "execute_result"
    }
   ],
   "source": [
    "df=data_select(1,3,2020,'SZX','predict')\n",
    "df.head(5)"
   ]
  },
  {
   "cell_type": "code",
   "execution_count": null,
   "metadata": {},
   "outputs": [],
   "source": []
  },
  {
   "cell_type": "code",
   "execution_count": null,
   "metadata": {},
   "outputs": [],
   "source": []
  }
 ],
 "metadata": {
  "kernelspec": {
   "display_name": "Python 3",
   "language": "python",
   "name": "python3"
  },
  "language_info": {
   "codemirror_mode": {
    "name": "ipython",
    "version": 3
   },
   "file_extension": ".py",
   "mimetype": "text/x-python",
   "name": "python",
   "nbconvert_exporter": "python",
   "pygments_lexer": "ipython3",
   "version": "3.7.6"
  }
 },
 "nbformat": 4,
 "nbformat_minor": 4
}
